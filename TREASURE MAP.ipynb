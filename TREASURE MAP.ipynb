{
 "cells": [
  {
   "cell_type": "code",
   "execution_count": 2,
   "id": "6f219b5d-be90-40b7-abc4-6fd0fa7bcaad",
   "metadata": {},
   "outputs": [],
   "source": [
    "line1 = [\"⬜️\",\"️⬜️\",\"️⬜️\"]\n",
    "line2 = [\"⬜️\",\"⬜️\",\"️⬜️\"]\n",
    "line3 = [\"⬜️️\",\"⬜️️\",\"⬜️️\"]"
   ]
  },
  {
   "cell_type": "code",
   "execution_count": 3,
   "id": "a6d4636d-5398-4b50-ba1b-5476d72f6ddf",
   "metadata": {},
   "outputs": [],
   "source": [
    "map = [line1, line2, line3]"
   ]
  },
  {
   "cell_type": "code",
   "execution_count": 4,
   "id": "1dab400a-fe33-4474-a985-5110e99cc98e",
   "metadata": {},
   "outputs": [
    {
     "name": "stdout",
     "output_type": "stream",
     "text": [
      "[['⬜️', '️⬜️', '️⬜️'], ['⬜️', '⬜️', '️⬜️'], ['⬜️️', '⬜️️', '⬜️️']]\n"
     ]
    }
   ],
   "source": [
    "print(map)"
   ]
  },
  {
   "cell_type": "code",
   "execution_count": 5,
   "id": "6584848d-2728-4a67-848e-2df9bf0a1a99",
   "metadata": {},
   "outputs": [
    {
     "name": "stdout",
     "output_type": "stream",
     "text": [
      "Hiding your treasure! X marks the spot.\n"
     ]
    }
   ],
   "source": [
    "print(\"Hiding your treasure! X marks the spot.\")"
   ]
  },
  {
   "cell_type": "code",
   "execution_count": 7,
   "id": "f8254e85-c524-4995-b56d-08c5efccb466",
   "metadata": {},
   "outputs": [
    {
     "name": "stdin",
     "output_type": "stream",
     "text": [
      "Where do you want to put the treasure? : B3\n"
     ]
    }
   ],
   "source": [
    "position = input(\"Where do you want to put the treasure? :\")"
   ]
  },
  {
   "cell_type": "code",
   "execution_count": 8,
   "id": "4a8e7895-08c6-4d6c-85f1-63f21d4b5889",
   "metadata": {},
   "outputs": [],
   "source": [
    "letter = position[0].lower()"
   ]
  },
  {
   "cell_type": "code",
   "execution_count": 9,
   "id": "fce5b07d-9e2c-4c9f-8221-48e8247448f6",
   "metadata": {},
   "outputs": [
    {
     "name": "stdout",
     "output_type": "stream",
     "text": [
      "b\n"
     ]
    }
   ],
   "source": [
    "print(letter)"
   ]
  },
  {
   "cell_type": "code",
   "execution_count": 10,
   "id": "73f30aa4-075e-40b7-a03d-90501963d7cf",
   "metadata": {},
   "outputs": [],
   "source": [
    "abc = [\"a\", \"b\", \"c\"]"
   ]
  },
  {
   "cell_type": "code",
   "execution_count": 11,
   "id": "59b36131-d91b-4d83-a0b5-2ff408303d14",
   "metadata": {},
   "outputs": [],
   "source": [
    "letter_index = abc.index(letter)"
   ]
  },
  {
   "cell_type": "code",
   "execution_count": 12,
   "id": "f0198d16-0883-4915-bdcb-29e7e8470e12",
   "metadata": {},
   "outputs": [
    {
     "name": "stdout",
     "output_type": "stream",
     "text": [
      "1\n"
     ]
    }
   ],
   "source": [
    "print(letter_index)"
   ]
  },
  {
   "cell_type": "code",
   "execution_count": 13,
   "id": "79fbd5a1-87cc-458a-8002-f4ba2f043f3e",
   "metadata": {},
   "outputs": [],
   "source": [
    "number_index = int(position[1]) - 1"
   ]
  },
  {
   "cell_type": "code",
   "execution_count": 14,
   "id": "a6ce8338-6814-426e-857a-b46f46162bd5",
   "metadata": {},
   "outputs": [
    {
     "name": "stdout",
     "output_type": "stream",
     "text": [
      "2\n"
     ]
    }
   ],
   "source": [
    "print(number_index)"
   ]
  },
  {
   "cell_type": "code",
   "execution_count": 15,
   "id": "895f036e-8c9c-4cee-8493-29e44c0c8b6a",
   "metadata": {},
   "outputs": [],
   "source": [
    "map[number_index][letter_index] = \"X\""
   ]
  },
  {
   "cell_type": "code",
   "execution_count": 16,
   "id": "47f0471e-50b8-4899-8e06-e262685ed504",
   "metadata": {},
   "outputs": [
    {
     "name": "stdout",
     "output_type": "stream",
     "text": [
      "['⬜️', '️⬜️', '️⬜️']\n",
      "['⬜️', '⬜️', '️⬜️']\n",
      "['⬜️️', 'X', '⬜️️']\n"
     ]
    }
   ],
   "source": [
    "print(f\"{line1}\\n{line2}\\n{line3}\")"
   ]
  },
  {
   "cell_type": "code",
   "execution_count": null,
   "id": "3057e949-24ff-4daf-a92d-a3050fe01c5a",
   "metadata": {},
   "outputs": [],
   "source": []
  }
 ],
 "metadata": {
  "kernelspec": {
   "display_name": "Python 3 (ipykernel)",
   "language": "python",
   "name": "python3"
  },
  "language_info": {
   "codemirror_mode": {
    "name": "ipython",
    "version": 3
   },
   "file_extension": ".py",
   "mimetype": "text/x-python",
   "name": "python",
   "nbconvert_exporter": "python",
   "pygments_lexer": "ipython3",
   "version": "3.10.12"
  }
 },
 "nbformat": 4,
 "nbformat_minor": 5
}
